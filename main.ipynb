{
 "cells": [
  {
   "cell_type": "code",
   "execution_count": 1,
   "metadata": {},
   "outputs": [],
   "source": [
    "from pathlib import Path\n",
    "import csv\n",
    "import numpy as np"
   ]
  },
  {
   "cell_type": "code",
   "execution_count": 2,
   "metadata": {},
   "outputs": [],
   "source": [
    "csvfile = Path(\"../python-homework/budget_data.csv\")"
   ]
  },
  {
   "cell_type": "code",
   "execution_count": 3,
   "metadata": {},
   "outputs": [],
   "source": [
    "date = []\n",
    "pnl = []\n",
    "dates_list = []\n",
    "pnl_list = []\n",
    "\n",
    "\n",
    "\n",
    "\n",
    "with open (csvfile, 'r') as budget:\n",
    "    \n",
    "    \n",
    "    csvreader = csv.reader(budget, delimiter=',')\n",
    "    \n",
    "    \n",
    "    header = next(csvreader)\n",
    "   \n",
    "    \n",
    "   \n",
    "    \n",
    "    for column in csvreader:\n",
    "        \n",
    "        date = column[0]\n",
    "        pnl = column[1]\n",
    "        dates_list.append(date)\n",
    "        pnl_list.append(int(pnl))\n",
    "        "
   ]
  },
  {
   "cell_type": "code",
   "execution_count": 4,
   "metadata": {},
   "outputs": [],
   "source": [
    "total = 0\n",
    "count = 0\n",
    "\n",
    "for net in pnl_list:\n",
    "    total += net\n",
    "    count += 1\n",
    "#print(total)"
   ]
  },
  {
   "cell_type": "code",
   "execution_count": 5,
   "metadata": {},
   "outputs": [
    {
     "name": "stdout",
     "output_type": "stream",
     "text": [
      "Financial Analysis\n",
      "---------------------------\n",
      "Total months: 86 \n",
      "Total: $38382578\n",
      "Average Change: $-2315.12\n",
      "Greatest increase in profits: $(1926159)\n",
      "Greatest decrease in profits: $(-2196167)\n"
     ]
    }
   ],
   "source": [
    "differences = np.diff(pnl_list, axis=0)\n",
    "\n",
    "print(\"Financial Analysis\\n---------------------------\")\n",
    "\n",
    "\n",
    "print(f\"Total months: {len(dates_list)} \")\n",
    "print(f\"Total: ${total}\")\n",
    "print(f\"Average Change: ${round(differences.mean(), 2)}\")\n",
    "print(f\"Greatest increase in profits: $({max(differences)})\")\n",
    "print(f\"Greatest decrease in profits: $({min(differences)})\")"
   ]
  },
  {
   "cell_type": "code",
   "execution_count": null,
   "metadata": {},
   "outputs": [],
   "source": []
  }
 ],
 "metadata": {
  "kernelspec": {
   "display_name": "Python 3",
   "language": "python",
   "name": "python3"
  },
  "language_info": {
   "codemirror_mode": {
    "name": "ipython",
    "version": 3
   },
   "file_extension": ".py",
   "mimetype": "text/x-python",
   "name": "python",
   "nbconvert_exporter": "python",
   "pygments_lexer": "ipython3",
   "version": "3.7.7"
  }
 },
 "nbformat": 4,
 "nbformat_minor": 4
}
