{
 "cells": [
  {
   "cell_type": "code",
   "execution_count": 1,
   "metadata": {},
   "outputs": [],
   "source": [
    "from pathlib import Path\n",
    "import csv"
   ]
  },
  {
   "cell_type": "code",
   "execution_count": 2,
   "metadata": {},
   "outputs": [],
   "source": [
    "csvfile = Path(\"../python-homework/budget_data.csv\")"
   ]
  },
  {
   "cell_type": "code",
   "execution_count": 45,
   "metadata": {},
   "outputs": [],
   "source": [
    "date = []\n",
    "pnl = []\n",
    "dates_list = []\n",
    "pnl_list = []\n",
    "line = 0\n",
    "\n",
    "\n",
    "\n",
    "\n",
    "with open (csvfile, 'r') as budget:\n",
    "    \n",
    "    \n",
    "    csvreader = csv.reader(budget, delimiter=',')\n",
    "    \n",
    "    \n",
    "    header = next(csvreader)\n",
    "    line += 1\n",
    "    \n",
    "\n",
    "    \n",
    "    for column in csvreader:\n",
    "        \n",
    "        date = column[0]\n",
    "        pnl = column[1]\n",
    "        dates_list.append(date)\n",
    "        pnl_list.append(int(pnl))\n",
    "        "
   ]
  },
  {
   "cell_type": "code",
   "execution_count": 64,
   "metadata": {},
   "outputs": [],
   "source": [
    "total = 0\n",
    "count = 0\n",
    "totals = 0\n",
    "counts = 0\n",
    "listing=[]\n",
    "\n",
    "for total in pnl_list:\n",
    "    totals += total\n",
    "    counts += 1\n",
    "    \n",
    "for num in pnl_list[1:]:\n",
    "    new_list = num - pnl_list[count]\n",
    "    count += 1\n",
    "    #print(new_list)\n",
    "    \n",
    "    listing.append(new_list)\n",
    "    \n",
    "number = listing.index(max(listing))\n",
    "number2 = listing.index(min(listing))\n",
    "type(listing)\n",
    "avg_tot = 0\n",
    "x = 0\n",
    "for avg in listing:\n",
    "    avg_tot += avg\n",
    "    x += 1\n",
    "average = (avg_tot/len(listing))"
   ]
  },
  {
   "cell_type": "code",
   "execution_count": 65,
   "metadata": {},
   "outputs": [
    {
     "name": "stdout",
     "output_type": "stream",
     "text": [
      "Financial Analysis\n",
      "---------------------------\n",
      "Total months: 86 \n",
      "Total: $38382578\n",
      "Average Change: $-2315.12\n",
      "Greatest increase in profits: Feb-2012 ($1926159)\n",
      "Greatest decrease in profits: Sep-2013 ($-2196167)\n"
     ]
    }
   ],
   "source": [
    "\n",
    "\n",
    "\n",
    "print(\"Financial Analysis\\n---------------------------\")\n",
    "\n",
    "\n",
    "print(f\"Total months: {len(dates_list)} \")\n",
    "print(f\"Total: ${totals}\")\n",
    "print(f\"Average Change: ${round (average, 2)}\")\n",
    "print(f\"Greatest increase in profits: {dates_list[number+1]} (${max(listing)})\")\n",
    "print(f\"Greatest decrease in profits: {dates_list[number2+1]} (${min(listing)})\")"
   ]
  }
 ],
 "metadata": {
  "kernelspec": {
   "display_name": "Python 3",
   "language": "python",
   "name": "python3"
  },
  "language_info": {
   "codemirror_mode": {
    "name": "ipython",
    "version": 3
   },
   "file_extension": ".py",
   "mimetype": "text/x-python",
   "name": "python",
   "nbconvert_exporter": "python",
   "pygments_lexer": "ipython3",
   "version": "3.7.7"
  }
 },
 "nbformat": 4,
 "nbformat_minor": 4
}
